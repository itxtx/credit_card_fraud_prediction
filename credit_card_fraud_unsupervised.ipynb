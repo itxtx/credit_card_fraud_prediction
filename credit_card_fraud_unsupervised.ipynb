{
 "cells": [
  {
   "cell_type": "markdown",
   "metadata": {},
   "source": [
    "## Unsupervised Models "
   ]
  },
  {
   "cell_type": "code",
   "execution_count": 1,
   "metadata": {},
   "outputs": [],
   "source": [
    "\n",
    "import numpy as np\n",
    "import pandas as pd\n",
    "import matplotlib.pyplot as plt\n",
    "import seaborn as sns\n",
    "from sklearn.preprocessing import StandardScaler\n",
    "from sklearn.model_selection import StratifiedKFold, GridSearchCV\n",
    "from sklearn.metrics import precision_recall_curve, auc, roc_curve, make_scorer\n",
    "from sklearn.linear_model import LogisticRegression\n",
    "import warnings\n",
    "warnings.filterwarnings('ignore')\n",
    "\n",
    "# Import your existing utility module\n",
    "import credit_card_fraud_utils as ccf"
   ]
  },
  {
   "cell_type": "code",
   "execution_count": 2,
   "metadata": {},
   "outputs": [
    {
     "name": "stdout",
     "output_type": "stream",
     "text": [
      "Configuration Parameters:\n"
     ]
    }
   ],
   "source": [
    "# Initialize configuration\n",
    "config = ccf.Config()\n",
    "\n",
    "# You can modify config parameters here if needed\n",
    "# config.IF_CONTAMINATION = 0.02\n",
    "# config.LOF_N_NEIGHBORS = 25\n",
    "\n",
    "# Display default configuration\n",
    "print(\"Configuration Parameters:\")\n",
    "for attr, value in config.__dict__.items():\n",
    "    print(f\"{attr} = {value}\")"
   ]
  },
  {
   "cell_type": "code",
   "execution_count": 3,
   "metadata": {},
   "outputs": [
    {
     "name": "stdout",
     "output_type": "stream",
     "text": [
      "Dataset Shape: (284807, 31)\n",
      "Number of Transactions: 284807\n",
      "Number of Features: 31\n"
     ]
    },
    {
     "data": {
      "text/html": [
       "<div>\n",
       "<style scoped>\n",
       "    .dataframe tbody tr th:only-of-type {\n",
       "        vertical-align: middle;\n",
       "    }\n",
       "\n",
       "    .dataframe tbody tr th {\n",
       "        vertical-align: top;\n",
       "    }\n",
       "\n",
       "    .dataframe thead th {\n",
       "        text-align: right;\n",
       "    }\n",
       "</style>\n",
       "<table border=\"1\" class=\"dataframe\">\n",
       "  <thead>\n",
       "    <tr style=\"text-align: right;\">\n",
       "      <th></th>\n",
       "      <th>Time</th>\n",
       "      <th>V1</th>\n",
       "      <th>V2</th>\n",
       "      <th>V3</th>\n",
       "      <th>V4</th>\n",
       "      <th>V5</th>\n",
       "      <th>V6</th>\n",
       "      <th>V7</th>\n",
       "      <th>V8</th>\n",
       "      <th>V9</th>\n",
       "      <th>...</th>\n",
       "      <th>V21</th>\n",
       "      <th>V22</th>\n",
       "      <th>V23</th>\n",
       "      <th>V24</th>\n",
       "      <th>V25</th>\n",
       "      <th>V26</th>\n",
       "      <th>V27</th>\n",
       "      <th>V28</th>\n",
       "      <th>Amount</th>\n",
       "      <th>Class</th>\n",
       "    </tr>\n",
       "  </thead>\n",
       "  <tbody>\n",
       "    <tr>\n",
       "      <th>0</th>\n",
       "      <td>0.0</td>\n",
       "      <td>-1.359807</td>\n",
       "      <td>-0.072781</td>\n",
       "      <td>2.536347</td>\n",
       "      <td>1.378155</td>\n",
       "      <td>-0.338321</td>\n",
       "      <td>0.462388</td>\n",
       "      <td>0.239599</td>\n",
       "      <td>0.098698</td>\n",
       "      <td>0.363787</td>\n",
       "      <td>...</td>\n",
       "      <td>-0.018307</td>\n",
       "      <td>0.277838</td>\n",
       "      <td>-0.110474</td>\n",
       "      <td>0.066928</td>\n",
       "      <td>0.128539</td>\n",
       "      <td>-0.189115</td>\n",
       "      <td>0.133558</td>\n",
       "      <td>-0.021053</td>\n",
       "      <td>149.62</td>\n",
       "      <td>0</td>\n",
       "    </tr>\n",
       "    <tr>\n",
       "      <th>1</th>\n",
       "      <td>0.0</td>\n",
       "      <td>1.191857</td>\n",
       "      <td>0.266151</td>\n",
       "      <td>0.166480</td>\n",
       "      <td>0.448154</td>\n",
       "      <td>0.060018</td>\n",
       "      <td>-0.082361</td>\n",
       "      <td>-0.078803</td>\n",
       "      <td>0.085102</td>\n",
       "      <td>-0.255425</td>\n",
       "      <td>...</td>\n",
       "      <td>-0.225775</td>\n",
       "      <td>-0.638672</td>\n",
       "      <td>0.101288</td>\n",
       "      <td>-0.339846</td>\n",
       "      <td>0.167170</td>\n",
       "      <td>0.125895</td>\n",
       "      <td>-0.008983</td>\n",
       "      <td>0.014724</td>\n",
       "      <td>2.69</td>\n",
       "      <td>0</td>\n",
       "    </tr>\n",
       "    <tr>\n",
       "      <th>2</th>\n",
       "      <td>1.0</td>\n",
       "      <td>-1.358354</td>\n",
       "      <td>-1.340163</td>\n",
       "      <td>1.773209</td>\n",
       "      <td>0.379780</td>\n",
       "      <td>-0.503198</td>\n",
       "      <td>1.800499</td>\n",
       "      <td>0.791461</td>\n",
       "      <td>0.247676</td>\n",
       "      <td>-1.514654</td>\n",
       "      <td>...</td>\n",
       "      <td>0.247998</td>\n",
       "      <td>0.771679</td>\n",
       "      <td>0.909412</td>\n",
       "      <td>-0.689281</td>\n",
       "      <td>-0.327642</td>\n",
       "      <td>-0.139097</td>\n",
       "      <td>-0.055353</td>\n",
       "      <td>-0.059752</td>\n",
       "      <td>378.66</td>\n",
       "      <td>0</td>\n",
       "    </tr>\n",
       "    <tr>\n",
       "      <th>3</th>\n",
       "      <td>1.0</td>\n",
       "      <td>-0.966272</td>\n",
       "      <td>-0.185226</td>\n",
       "      <td>1.792993</td>\n",
       "      <td>-0.863291</td>\n",
       "      <td>-0.010309</td>\n",
       "      <td>1.247203</td>\n",
       "      <td>0.237609</td>\n",
       "      <td>0.377436</td>\n",
       "      <td>-1.387024</td>\n",
       "      <td>...</td>\n",
       "      <td>-0.108300</td>\n",
       "      <td>0.005274</td>\n",
       "      <td>-0.190321</td>\n",
       "      <td>-1.175575</td>\n",
       "      <td>0.647376</td>\n",
       "      <td>-0.221929</td>\n",
       "      <td>0.062723</td>\n",
       "      <td>0.061458</td>\n",
       "      <td>123.50</td>\n",
       "      <td>0</td>\n",
       "    </tr>\n",
       "    <tr>\n",
       "      <th>4</th>\n",
       "      <td>2.0</td>\n",
       "      <td>-1.158233</td>\n",
       "      <td>0.877737</td>\n",
       "      <td>1.548718</td>\n",
       "      <td>0.403034</td>\n",
       "      <td>-0.407193</td>\n",
       "      <td>0.095921</td>\n",
       "      <td>0.592941</td>\n",
       "      <td>-0.270533</td>\n",
       "      <td>0.817739</td>\n",
       "      <td>...</td>\n",
       "      <td>-0.009431</td>\n",
       "      <td>0.798278</td>\n",
       "      <td>-0.137458</td>\n",
       "      <td>0.141267</td>\n",
       "      <td>-0.206010</td>\n",
       "      <td>0.502292</td>\n",
       "      <td>0.219422</td>\n",
       "      <td>0.215153</td>\n",
       "      <td>69.99</td>\n",
       "      <td>0</td>\n",
       "    </tr>\n",
       "  </tbody>\n",
       "</table>\n",
       "<p>5 rows × 31 columns</p>\n",
       "</div>"
      ],
      "text/plain": [
       "   Time        V1        V2        V3        V4        V5        V6        V7  \\\n",
       "0   0.0 -1.359807 -0.072781  2.536347  1.378155 -0.338321  0.462388  0.239599   \n",
       "1   0.0  1.191857  0.266151  0.166480  0.448154  0.060018 -0.082361 -0.078803   \n",
       "2   1.0 -1.358354 -1.340163  1.773209  0.379780 -0.503198  1.800499  0.791461   \n",
       "3   1.0 -0.966272 -0.185226  1.792993 -0.863291 -0.010309  1.247203  0.237609   \n",
       "4   2.0 -1.158233  0.877737  1.548718  0.403034 -0.407193  0.095921  0.592941   \n",
       "\n",
       "         V8        V9  ...       V21       V22       V23       V24       V25  \\\n",
       "0  0.098698  0.363787  ... -0.018307  0.277838 -0.110474  0.066928  0.128539   \n",
       "1  0.085102 -0.255425  ... -0.225775 -0.638672  0.101288 -0.339846  0.167170   \n",
       "2  0.247676 -1.514654  ...  0.247998  0.771679  0.909412 -0.689281 -0.327642   \n",
       "3  0.377436 -1.387024  ... -0.108300  0.005274 -0.190321 -1.175575  0.647376   \n",
       "4 -0.270533  0.817739  ... -0.009431  0.798278 -0.137458  0.141267 -0.206010   \n",
       "\n",
       "        V26       V27       V28  Amount  Class  \n",
       "0 -0.189115  0.133558 -0.021053  149.62      0  \n",
       "1  0.125895 -0.008983  0.014724    2.69      0  \n",
       "2 -0.139097 -0.055353 -0.059752  378.66      0  \n",
       "3 -0.221929  0.062723  0.061458  123.50      0  \n",
       "4  0.502292  0.219422  0.215153   69.99      0  \n",
       "\n",
       "[5 rows x 31 columns]"
      ]
     },
     "execution_count": 3,
     "metadata": {},
     "output_type": "execute_result"
    }
   ],
   "source": [
    "# Load the dataset\n",
    "df = ccf.load_data(config)\n",
    "\n",
    "# Display basic information\n",
    "print(f\"Dataset Shape: {df.shape}\")\n",
    "print(f\"Number of Transactions: {df.shape[0]}\")\n",
    "print(f\"Number of Features: {df.shape[1]}\")\n",
    "\n",
    "# Display the first few rows\n",
    "df.head()"
   ]
  },
  {
   "cell_type": "code",
   "execution_count": 4,
   "metadata": {},
   "outputs": [
    {
     "name": "stdout",
     "output_type": "stream",
     "text": [
      "Missing Values: 0\n",
      "Normal Transactions: 284315 (99.83%)\n",
      "Fraudulent Transactions: 492 (0.17%)\n",
      "\n",
      "Recommended contamination value: 0.001727\n"
     ]
    }
   ],
   "source": [
    "# Get a summary of the dataset\n",
    "summary = ccf.get_data_summary(df)\n",
    "\n",
    "print(f\"Missing Values: {summary['missing_values']}\")\n",
    "print(f\"Normal Transactions: {summary['normal_count']} ({100 - summary['fraud_percentage']:.2f}%)\")\n",
    "print(f\"Fraudulent Transactions: {summary['fraud_count']} ({summary['fraud_percentage']:.2f}%)\")\n",
    "\n",
    "# Based on the actual fraud percentage, we might want to update the contamination parameter\n",
    "print(f\"\\nRecommended contamination value: {summary['fraud_percentage'] / 100:.6f}\")\n",
    "config.IF_CONTAMINATION = summary['fraud_percentage'] / 100\n",
    "config.LOF_CONTAMINATION = summary['fraud_percentage'] / 100"
   ]
  },
  {
   "cell_type": "code",
   "execution_count": 5,
   "metadata": {},
   "outputs": [],
   "source": [
    "from sklearn.model_selection import train_test_split\n",
    "\n",
    "X = df.drop(columns=['Class'])\n",
    "y = df['Class']\n",
    "X_train, X_test, y_train, y_test = train_test_split(X, y, test_size = 0.2, random_state=42)\n",
    "\n",
    "#scale the data\n",
    "scaler = StandardScaler()\n",
    "X_train = scaler.fit_transform(X_train)\n",
    "X_test = scaler.transform(X_test)\n"
   ]
  },
  {
   "cell_type": "markdown",
   "metadata": {},
   "source": [
    "### Isolation Forest"
   ]
  },
  {
   "cell_type": "code",
   "execution_count": 6,
   "metadata": {},
   "outputs": [
    {
     "name": "stdout",
     "output_type": "stream",
     "text": [
      "Accuracy: 0.9977\n",
      "Precision: 0.3300\n",
      "Recall: 0.3367\n",
      "F1-score: 0.3333\n",
      "AUPRC: 0.3339\n"
     ]
    }
   ],
   "source": [
    "from sklearn.ensemble import IsolationForest\n",
    "from sklearn.metrics import accuracy_score, precision_score, recall_score, f1_score\n",
    "\n",
    "\n",
    "\n",
    "model = IsolationForest(contamination=0.001727, random_state=42, n_estimators=100, max_samples='auto')\n",
    "model.fit(X_train)\n",
    "y_pred = model.predict(X_test)\n",
    "\n",
    "# Convert predictions from (-1, 1) to (0, 1) format\n",
    "y_pred = np.where(y_pred == -1, 1, 0)\n",
    "\n",
    "accuracy = accuracy_score(y_test, y_pred)\n",
    "precision = precision_score(y_test, y_pred, average='binary')\n",
    "recall = recall_score(y_test, y_pred, average='binary')\n",
    "f1 = f1_score(y_test, y_pred, average='binary')\n",
    "\n",
    "\n",
    "print(f\"Accuracy: {accuracy:.4f}\")\n",
    "print(f\"Precision: {precision:.4f}\")\n",
    "print(f\"Recall: {recall:.4f}\")\n",
    "print(f\"F1-score: {f1:.4f}\")\n",
    "precision, recall, _ = precision_recall_curve(y_test, y_pred)\n",
    "auprc = auc(recall, precision)\n",
    "print(f\"AUPRC: {auprc:.4f}\")"
   ]
  },
  {
   "cell_type": "code",
   "execution_count": 7,
   "metadata": {},
   "outputs": [
    {
     "data": {
      "image/png": "[encoded data removed]",
      "text/plain": [
       "<Figure size 1000x500 with 1 Axes>"
      ]
     },
     "metadata": {},
     "output_type": "display_data"
    }
   ],
   "source": [
    "# Get anomaly scores (the lower the score, the more likely it's an outlier)\n",
    "y_scores = -model.score_samples(X_test)  # Negative because lower scores mean more anomalous\n",
    "\n",
    "# Get binary predictions for metrics\n",
    "y_pred = model.predict(X_test)\n",
    "y_pred = np.where(y_pred == -1, 1, 0)  # Convert to 0/1 format\n",
    "\n",
    "# Calculate precision-recall curve\n",
    "precision, recall, _ = precision_recall_curve(y_test, y_scores)\n",
    "\n",
    "# Calculate ROC curve\n",
    "fpr, tpr, _ = roc_curve(y_test, y_scores)\n",
    "\n",
    "# Plot both curves\n",
    "plt.figure(figsize=(10, 5))\n",
    "plt.plot(recall, precision, label='Precision-Recall Curve')\n",
    "plt.plot(fpr, tpr, label='ROC Curve')\n",
    "plt.xlabel('Recall (True Positive Rate)')\n",
    "plt.ylabel('Precision')\n",
    "plt.title('Precision-Recall vs ROC Curves')\n",
    "plt.legend()\n",
    "plt.grid(True)\n",
    "plt.show()"
   ]
  },
  {
   "cell_type": "code",
   "execution_count": 8,
   "metadata": {},
   "outputs": [
    {
     "name": "stdout",
     "output_type": "stream",
     "text": [
      "Confusion Matrix:\n",
      "[[56797    67]\n",
      " [   65    33]]\n",
      "Recall at 0.5% FPR: 0.5510\n",
      "Precision at 0.5% Recall: 1.0000\n",
      "Matthews Correlation Coefficient: 0.3322\n",
      "Kolmogorov-Smirnov Statistic: 0.8172\n"
     ]
    }
   ],
   "source": [
    "import numpy as np\n",
    "from sklearn.metrics import confusion_matrix, matthews_corrcoef, roc_curve, precision_recall_curve\n",
    "\n",
    "def calculate_recall_at_fpr(y_true, y_scores, k=0.005):\n",
    "    \"\"\"Calculate recall at a specific false positive rate.\"\"\"\n",
    "    fpr, tpr, thresholds = roc_curve(y_true, y_scores)\n",
    "    idx = np.argmin(np.abs(fpr - k))\n",
    "    return tpr[idx]\n",
    "\n",
    "def calculate_precision_at_recall(y_true, y_scores, k=0.005):\n",
    "    \"\"\"Calculate precision at a specific recall rate.\"\"\"\n",
    "    precision, recall, thresholds = precision_recall_curve(y_true, y_scores)\n",
    "    idx = np.argmin(np.abs(recall - k))\n",
    "    return precision[idx]\n",
    "\n",
    "def calculate_ks_statistic(y_true, y_scores):\n",
    "    \"\"\"Calculate Kolmogorov-Smirnov statistic.\"\"\"\n",
    "    fpr, tpr, _ = roc_curve(y_true, y_scores)\n",
    "    return np.max(np.abs(fpr - tpr))\n",
    "\n",
    "# Now calculate the metrics\n",
    "cm = confusion_matrix(y_test, y_pred)\n",
    "recall_at_k = calculate_recall_at_fpr(y_test, y_scores, k=0.005)\n",
    "precision_at_k = calculate_precision_at_recall(y_test, y_scores, k=0.005)\n",
    "mcc = matthews_corrcoef(y_test, y_pred)\n",
    "ks = calculate_ks_statistic(y_test, y_scores)\n",
    "\n",
    "print(f\"Confusion Matrix:\\n{cm}\")\n",
    "print(f\"Recall at 0.5% FPR: {recall_at_k:.4f}\")\n",
    "print(f\"Precision at 0.5% Recall: {precision_at_k:.4f}\")\n",
    "print(f\"Matthews Correlation Coefficient: {mcc:.4f}\")\n",
    "print(f\"Kolmogorov-Smirnov Statistic: {ks:.4f}\")"
   ]
  },
  {
   "cell_type": "code",
   "execution_count": 9,
   "metadata": {},
   "outputs": [],
   "source": [
    "#gridsearch\n",
    "from sklearn.model_selection import GridSearchCV\n",
    "from sklearn.ensemble import IsolationForest\n",
    "\n",
    "# Define the parameter grid\n",
    "param_grid = {\n",
    "    'n_estimators': [20, 30, 40, 50, 60, 70],\n",
    "    'max_samples': ['auto', 0.5, 1.0],\n",
    "    'contamination': [0.0001,0.0005, 0.001, 0.005, 0.01],\n",
    "    'random_state': [42]\n",
    "}\n",
    "\n",
    "# Initialize the Isolation Forest model\n",
    "if_model = IsolationForest(random_state=42)\n",
    "\n",
    "# Perform grid search with cross-validation\n",
    "grid_search = GridSearchCV(estimator=if_model, param_grid=param_grid, cv=5, scoring='average_precision')\n",
    "\n",
    "# Fit the grid search to the training data\n",
    "grid_search.fit(X_train)\n",
    "\n",
    "# Get the best parameters and model\n",
    "best_params = grid_search.best_params_\n",
    "best_if_model = grid_search.best_estimator_\n"
   ]
  },
  {
   "cell_type": "code",
   "execution_count": 16,
   "metadata": {},
   "outputs": [
    {
     "data": {
      "text/plain": [
       "{'contamination': 0.0001,\n",
       " 'max_samples': 'auto',\n",
       " 'n_estimators': 20,\n",
       " 'random_state': 42}"
      ]
     },
     "execution_count": 16,
     "metadata": {},
     "output_type": "execute_result"
    }
   ],
   "source": [
    "#best_if_model.save('best_if_model.pkl')\n",
    "best_params"
   ]
  },
  {
   "cell_type": "code",
   "execution_count": 17,
   "metadata": {},
   "outputs": [
    {
     "name": "stdout",
     "output_type": "stream",
     "text": [
      "Accuracy: 0.9982\n",
      "Precision: 0.3333\n",
      "Recall: 0.0204\n",
      "F1-score: 0.0385\n",
      "AUPRC: 0.1777\n"
     ]
    }
   ],
   "source": [
    "y_pred = best_if_model.predict(X_test)\n",
    "\n",
    "# Convert predictions from (-1, 1) to (0, 1) format\n",
    "y_pred = np.where(y_pred == -1, 1, 0)\n",
    "\n",
    "accuracy = accuracy_score(y_test, y_pred)\n",
    "precision = precision_score(y_test, y_pred, average='binary')\n",
    "recall = recall_score(y_test, y_pred, average='binary')\n",
    "f1 = f1_score(y_test, y_pred, average='binary')\n",
    "\n",
    "\n",
    "print(f\"Accuracy: {accuracy:.4f}\")\n",
    "print(f\"Precision: {precision:.4f}\")\n",
    "print(f\"Recall: {recall:.4f}\")\n",
    "print(f\"F1-score: {f1:.4f}\")\n",
    "precision, recall, _ = precision_recall_curve(y_test, y_pred)\n",
    "auprc = auc(recall, precision)\n",
    "print(f\"AUPRC: {auprc:.4f}\")"
   ]
  },
  {
   "cell_type": "code",
   "execution_count": 18,
   "metadata": {},
   "outputs": [
    {
     "name": "stdout",
     "output_type": "stream",
     "text": [
      "Confusion Matrix:\n",
      "[[56860     4]\n",
      " [   96     2]]\n",
      "Recall at 0.5% FPR: 0.5714\n",
      "Precision at 0.5% Recall: 0.0000\n",
      "Matthews Correlation Coefficient: 0.0821\n",
      "Kolmogorov-Smirnov Statistic: 0.8354\n"
     ]
    }
   ],
   "source": [
    "# Get anomaly scores (the lower the score, the more likely it's an outlier)\n",
    "y_scores = -best_if_model.score_samples(X_test)  # Negative because lower scores mean more anomalous\n",
    "\n",
    "# Get binary predictions for metrics\n",
    "y_pred = best_if_model.predict(X_test)\n",
    "y_pred = np.where(y_pred == -1, 1, 0)  # Convert to 0/1 format\n",
    "\n",
    "# Calculate precision-recall curve\n",
    "precision, recall, _ = precision_recall_curve(y_test, y_scores)\n",
    "\n",
    "# Calculate ROC curve\n",
    "fpr, tpr, _ = roc_curve(y_test, y_scores)\n",
    "\n",
    "\n",
    "# Now calculate the metrics\n",
    "cm = confusion_matrix(y_test, y_pred)\n",
    "recall_at_k = calculate_recall_at_fpr(y_test, y_scores, k=0.005)\n",
    "precision_at_k = calculate_precision_at_recall(y_test, y_scores, k=0.005)\n",
    "mcc = matthews_corrcoef(y_test, y_pred)\n",
    "ks = calculate_ks_statistic(y_test, y_scores)\n",
    "\n",
    "print(f\"Confusion Matrix:\\n{cm}\")\n",
    "print(f\"Recall at 0.5% FPR: {recall_at_k:.4f}\")\n",
    "print(f\"Precision at 0.5% Recall: {precision_at_k:.4f}\")\n",
    "print(f\"Matthews Correlation Coefficient: {mcc:.4f}\")\n",
    "print(f\"Kolmogorov-Smirnov Statistic: {ks:.4f}\")\n",
    "\n"
   ]
  },
  {
   "cell_type": "code",
   "execution_count": 19,
   "metadata": {},
   "outputs": [
    {
     "data": {
      "image/png": "[encoded data removed]",
      "text/plain": [
       "<Figure size 1000x500 with 1 Axes>"
      ]
     },
     "metadata": {},
     "output_type": "display_data"
    }
   ],
   "source": [
    "\n",
    "# Plot both curves\n",
    "plt.figure(figsize=(10, 5))\n",
    "plt.plot(recall, precision, label='Precision-Recall Curve')\n",
    "plt.plot(fpr, tpr, label='ROC Curve')\n",
    "plt.xlabel('Recall (True Positive Rate)')\n",
    "plt.ylabel('Precision')\n",
    "plt.title('Precision-Recall vs ROC Curves')\n",
    "plt.legend()\n",
    "plt.grid(True)\n",
    "plt.show()"
   ]
  },
  {
   "cell_type": "markdown",
   "metadata": {},
   "source": [
    "### Local Outlier Factor"
   ]
  },
  {
   "cell_type": "code",
   "execution_count": 14,
   "metadata": {},
   "outputs": [
    {
     "ename": "AttributeError",
     "evalue": "This 'LocalOutlierFactor' has no attribute 'predict'",
     "output_type": "error",
     "traceback": [
      "\u001b[0;31m---------------------------------------------------------------------------\u001b[0m",
      "\u001b[0;31mAttributeError\u001b[0m                            Traceback (most recent call last)",
      "File \u001b[0;32m~/anaconda3/lib/python3.10/site-packages/sklearn/utils/_available_if.py:32\u001b[0m, in \u001b[0;36m_AvailableIfDescriptor._check\u001b[0;34m(self, obj, owner)\u001b[0m\n\u001b[1;32m     31\u001b[0m \u001b[38;5;28;01mtry\u001b[39;00m:\n\u001b[0;32m---> 32\u001b[0m     check_result \u001b[38;5;241m=\u001b[39m \u001b[38;5;28;43mself\u001b[39;49m\u001b[38;5;241;43m.\u001b[39;49m\u001b[43mcheck\u001b[49m\u001b[43m(\u001b[49m\u001b[43mobj\u001b[49m\u001b[43m)\u001b[49m\n\u001b[1;32m     33\u001b[0m \u001b[38;5;28;01mexcept\u001b[39;00m \u001b[38;5;167;01mException\u001b[39;00m \u001b[38;5;28;01mas\u001b[39;00m e:\n",
      "File \u001b[0;32m~/anaconda3/lib/python3.10/site-packages/sklearn/neighbors/_lof.py:337\u001b[0m, in \u001b[0;36mLocalOutlierFactor._check_novelty_predict\u001b[0;34m(self)\u001b[0m\n\u001b[1;32m    331\u001b[0m     msg \u001b[38;5;241m=\u001b[39m (\n\u001b[1;32m    332\u001b[0m         \u001b[38;5;124m\"\u001b[39m\u001b[38;5;124mpredict is not available when novelty=False, use \u001b[39m\u001b[38;5;124m\"\u001b[39m\n\u001b[1;32m    333\u001b[0m         \u001b[38;5;124m\"\u001b[39m\u001b[38;5;124mfit_predict if you want to predict on training data. Use \u001b[39m\u001b[38;5;124m\"\u001b[39m\n\u001b[1;32m    334\u001b[0m         \u001b[38;5;124m\"\u001b[39m\u001b[38;5;124mnovelty=True if you want to use LOF for novelty detection \u001b[39m\u001b[38;5;124m\"\u001b[39m\n\u001b[1;32m    335\u001b[0m         \u001b[38;5;124m\"\u001b[39m\u001b[38;5;124mand predict on new unseen data.\u001b[39m\u001b[38;5;124m\"\u001b[39m\n\u001b[1;32m    336\u001b[0m     )\n\u001b[0;32m--> 337\u001b[0m     \u001b[38;5;28;01mraise\u001b[39;00m \u001b[38;5;167;01mAttributeError\u001b[39;00m(msg)\n\u001b[1;32m    338\u001b[0m \u001b[38;5;28;01mreturn\u001b[39;00m \u001b[38;5;28;01mTrue\u001b[39;00m\n",
      "\u001b[0;31mAttributeError\u001b[0m: predict is not available when novelty=False, use fit_predict if you want to predict on training data. Use novelty=True if you want to use LOF for novelty detection and predict on new unseen data.",
      "\nThe above exception was the direct cause of the following exception:\n",
      "\u001b[0;31mAttributeError\u001b[0m                            Traceback (most recent call last)",
      "Cell \u001b[0;32mIn[14], line 5\u001b[0m\n\u001b[1;32m      3\u001b[0m model_lof   \u001b[38;5;241m=\u001b[39m LocalOutlierFactor(contamination\u001b[38;5;241m=\u001b[39m\u001b[38;5;241m0.001727\u001b[39m)\n\u001b[1;32m      4\u001b[0m model_lof\u001b[38;5;241m.\u001b[39mfit(X_train)\n\u001b[0;32m----> 5\u001b[0m y_pred \u001b[38;5;241m=\u001b[39m \u001b[43mmodel_lof\u001b[49m\u001b[38;5;241;43m.\u001b[39;49m\u001b[43mpredict\u001b[49m(X_test)\n\u001b[1;32m      7\u001b[0m \u001b[38;5;66;03m# Convert predictions from (-1, 1) to (0, 1) format\u001b[39;00m\n\u001b[1;32m      8\u001b[0m y_pred \u001b[38;5;241m=\u001b[39m np\u001b[38;5;241m.\u001b[39mwhere(y_pred \u001b[38;5;241m==\u001b[39m \u001b[38;5;241m-\u001b[39m\u001b[38;5;241m1\u001b[39m, \u001b[38;5;241m1\u001b[39m, \u001b[38;5;241m0\u001b[39m)\n",
      "File \u001b[0;32m~/anaconda3/lib/python3.10/site-packages/sklearn/utils/_available_if.py:43\u001b[0m, in \u001b[0;36m_AvailableIfDescriptor.__get__\u001b[0;34m(self, obj, owner)\u001b[0m\n\u001b[1;32m     39\u001b[0m \u001b[38;5;28;01mdef\u001b[39;00m\u001b[38;5;250m \u001b[39m\u001b[38;5;21m__get__\u001b[39m(\u001b[38;5;28mself\u001b[39m, obj, owner\u001b[38;5;241m=\u001b[39m\u001b[38;5;28;01mNone\u001b[39;00m):\n\u001b[1;32m     40\u001b[0m     \u001b[38;5;28;01mif\u001b[39;00m obj \u001b[38;5;129;01mis\u001b[39;00m \u001b[38;5;129;01mnot\u001b[39;00m \u001b[38;5;28;01mNone\u001b[39;00m:\n\u001b[1;32m     41\u001b[0m         \u001b[38;5;66;03m# delegate only on instances, not the classes.\u001b[39;00m\n\u001b[1;32m     42\u001b[0m         \u001b[38;5;66;03m# this is to allow access to the docstrings.\u001b[39;00m\n\u001b[0;32m---> 43\u001b[0m         \u001b[38;5;28;43mself\u001b[39;49m\u001b[38;5;241;43m.\u001b[39;49m\u001b[43m_check\u001b[49m\u001b[43m(\u001b[49m\u001b[43mobj\u001b[49m\u001b[43m,\u001b[49m\u001b[43m \u001b[49m\u001b[43mowner\u001b[49m\u001b[38;5;241;43m=\u001b[39;49m\u001b[43mowner\u001b[49m\u001b[43m)\u001b[49m\n\u001b[1;32m     44\u001b[0m         out \u001b[38;5;241m=\u001b[39m MethodType(\u001b[38;5;28mself\u001b[39m\u001b[38;5;241m.\u001b[39mfn, obj)\n\u001b[1;32m     46\u001b[0m     \u001b[38;5;28;01melse\u001b[39;00m:\n\u001b[1;32m     47\u001b[0m         \u001b[38;5;66;03m# This makes it possible to use the decorated method as an unbound method,\u001b[39;00m\n\u001b[1;32m     48\u001b[0m         \u001b[38;5;66;03m# for instance when monkeypatching.\u001b[39;00m\n",
      "File \u001b[0;32m~/anaconda3/lib/python3.10/site-packages/sklearn/utils/_available_if.py:34\u001b[0m, in \u001b[0;36m_AvailableIfDescriptor._check\u001b[0;34m(self, obj, owner)\u001b[0m\n\u001b[1;32m     32\u001b[0m     check_result \u001b[38;5;241m=\u001b[39m \u001b[38;5;28mself\u001b[39m\u001b[38;5;241m.\u001b[39mcheck(obj)\n\u001b[1;32m     33\u001b[0m \u001b[38;5;28;01mexcept\u001b[39;00m \u001b[38;5;167;01mException\u001b[39;00m \u001b[38;5;28;01mas\u001b[39;00m e:\n\u001b[0;32m---> 34\u001b[0m     \u001b[38;5;28;01mraise\u001b[39;00m \u001b[38;5;167;01mAttributeError\u001b[39;00m(attr_err_msg) \u001b[38;5;28;01mfrom\u001b[39;00m\u001b[38;5;250m \u001b[39m\u001b[38;5;21;01me\u001b[39;00m\n\u001b[1;32m     36\u001b[0m \u001b[38;5;28;01mif\u001b[39;00m \u001b[38;5;129;01mnot\u001b[39;00m check_result:\n\u001b[1;32m     37\u001b[0m     \u001b[38;5;28;01mraise\u001b[39;00m \u001b[38;5;167;01mAttributeError\u001b[39;00m(attr_err_msg)\n",
      "\u001b[0;31mAttributeError\u001b[0m: This 'LocalOutlierFactor' has no attribute 'predict'"
     ]
    }
   ],
   "source": [
    "from sklearn.neighbors import LocalOutlierFactor\n",
    "\n",
    "model_lof   = LocalOutlierFactor(contamination=0.001727)\n",
    "model_lof.fit(X_train)\n",
    "y_pred = model_lof.predict(X_test)\n",
    "\n",
    "# Convert predictions from (-1, 1) to (0, 1) format\n",
    "y_pred = np.where(y_pred == -1, 1, 0)\n",
    "\n",
    "accuracy = accuracy_score(y_test, y_pred)\n",
    "precision = precision_score(y_test, y_pred, average='binary')\n",
    "recall = recall_score(y_test, y_pred, average='binary')\n",
    "f1 = f1_score(y_test, y_pred, average='binary')\n",
    "\n",
    "\n",
    "print(f\"Accuracy: {accuracy:.4f}\")\n",
    "print(f\"Precision: {precision:.4f}\")\n",
    "print(f\"Recall: {recall:.4f}\")\n",
    "print(f\"F1-score: {f1:.4f}\")\n",
    "precision, recall, _ = precision_recall_curve(y_test, y_pred)\n",
    "auprc = auc(recall, precision)\n",
    "print(f\"AUPRC: {auprc:.4f}\")"
   ]
  },
  {
   "cell_type": "code",
   "execution_count": null,
   "metadata": {},
   "outputs": [],
   "source": [
    "# Train Isolation Forest model\n",
    "print(\"Training Isolation Forest model...\")\n",
    "if_model = ccf.train_isolation_forest(X_train, config)\n",
    "if_preds, if_scores = ccf.get_model_predictions(if_model, X_test)"
   ]
  },
  {
   "cell_type": "code",
   "execution_count": null,
   "metadata": {},
   "outputs": [],
   "source": [
    "# Train Local Outlier Factor model\n",
    "print(\"Training Local Outlier Factor model...\")\n",
    "lof_model = ccf.train_lof(X_train, config)\n",
    "lof_preds, lof_scores = ccf.get_model_predictions(lof_model, X_test, is_isolation_forest=False)"
   ]
  },
  {
   "cell_type": "code",
   "execution_count": null,
   "metadata": {},
   "outputs": [],
   "source": [
    "# Evaluate Isolation Forest\n",
    "if_metrics = ccf.calculate_metrics(y_test, if_preds, if_scores)\n",
    "print(\"Isolation Forest Results:\")\n",
    "print(f\"Accuracy: {if_metrics['accuracy']:.4f}\")\n",
    "print(\"\\nConfusion Matrix:\")\n",
    "print(if_metrics['confusion_matrix'])\n",
    "print(\"\\nClassification Report:\")\n",
    "print(if_metrics['classification_report'])"
   ]
  },
  {
   "cell_type": "code",
   "execution_count": null,
   "metadata": {},
   "outputs": [],
   "source": [
    "# Evaluate LOF\n",
    "lof_metrics = ccf.calculate_metrics(y_test, lof_preds, lof_scores)\n",
    "print(\"Local Outlier Factor Results:\")\n",
    "print(f\"Accuracy: {lof_metrics['accuracy']:.4f}\")\n",
    "print(\"\\nConfusion Matrix:\")\n",
    "print(lof_metrics['confusion_matrix'])\n",
    "print(\"\\nClassification Report:\")\n",
    "print(lof_metrics['classification_report'])"
   ]
  },
  {
   "cell_type": "code",
   "execution_count": null,
   "metadata": {},
   "outputs": [],
   "source": [
    "# Plot ROC curves\n",
    "plt_roc, auc_if, auc_lof = ccf.plot_roc_curves(y_test, if_scores, lof_scores)\n",
    "plt_roc.show()"
   ]
  },
  {
   "cell_type": "code",
   "execution_count": null,
   "metadata": {},
   "outputs": [],
   "source": [
    "# Plot Precision-Recall curves\n",
    "plt_pr = ccf.plot_pr_curves(y_test, if_scores, lof_scores)\n",
    "plt_pr.show()"
   ]
  },
  {
   "cell_type": "code",
   "execution_count": null,
   "metadata": {},
   "outputs": [],
   "source": [
    "# Plot anomaly score distributions\n",
    "plt_scores, eval_df = ccf.plot_anomaly_scores(if_scores, lof_scores, y_test)\n",
    "plt_scores.show()"
   ]
  },
  {
   "cell_type": "code",
   "execution_count": null,
   "metadata": {},
   "outputs": [],
   "source": [
    "# Plot anomaly score comparison\n",
    "plt_comparison = ccf.plot_score_comparison(eval_df)\n",
    "plt_comparison.show()"
   ]
  },
  {
   "cell_type": "code",
   "execution_count": null,
   "metadata": {},
   "outputs": [],
   "source": [
    "# Compare model performance\n",
    "comparisons = ccf.compare_models(y_test, if_preds, lof_preds, if_scores, lof_scores, auc_if, auc_lof)\n",
    "print(\"Model Comparison:\")\n",
    "comparisons.style.highlight_max(axis=0)"
   ]
  }
 ],
 "metadata": {
  "kernelspec": {
   "display_name": "base",
   "language": "python",
   "name": "python3"
  },
  "language_info": {
   "codemirror_mode": {
    "name": "ipython",
    "version": 3
   },
   "file_extension": ".py",
   "mimetype": "text/x-python",
   "name": "python",
   "nbconvert_exporter": "python",
   "pygments_lexer": "ipython3",
   "version": "3.10.8"
  }
 },
 "nbformat": 4,
 "nbformat_minor": 2
}
