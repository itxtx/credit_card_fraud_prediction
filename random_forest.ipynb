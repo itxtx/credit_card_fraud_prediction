{
 "cells": [
  {
   "cell_type": "code",
   "execution_count": null,
   "metadata": {},
   "outputs": [],
   "source": [
    "model_rf = RandomForestClassifier()\n",
    "model_rf.fit(Xsmote, ysmote)\n",
    "y_pred_rf = model_rf.predict(X_test)\n",
    "\n",
    "rf_results = all_metrics.calculate_model_metrics(model_rf, X_test, y_test, 'Random Forest')\n"
   ]
  }
 ],
 "metadata": {
  "kernelspec": {
   "display_name": "islp",
   "language": "python",
   "name": "python3"
  },
  "language_info": {
   "name": "python",
   "version": "3.11.11"
  }
 },
 "nbformat": 4,
 "nbformat_minor": 2
}
